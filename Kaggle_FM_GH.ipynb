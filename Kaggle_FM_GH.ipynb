{
 "cells": [
  {
   "cell_type": "code",
   "execution_count": 2,
   "metadata": {},
   "outputs": [
    {
     "name": "stdout",
     "output_type": "stream",
     "text": [
      "movielens-fds/training.csv\n",
      "movielens-fds/test.csv\n",
      "movielens-fds/sample_submission.csv\n"
     ]
    }
   ],
   "source": [
    "# This Python 3 environment comes with many helpful analytics libraries installed\n",
    "# It is defined by the kaggle/python Docker image: https://github.com/kaggle/docker-python\n",
    "# For example, here's several helpful packages to load\n",
    "\n",
    "import numpy as np # linear algebra\n",
    "import pandas as pd # data processing, CSV file I/O (e.g. pd.read_csv)\n",
    "import matplotlib.pylab as plt\n",
    "from scipy import sparse\n",
    "from scipy.sparse import csr_matrix\n",
    "\n",
    "# Input data files are available in the read-only \"../input/\" directory\n",
    "# For example, running this (by clicking run or pressing Shift+Enter) will list all files under the input directory\n",
    "\n",
    "import os\n",
    "for dirname, _, filenames in os.walk('movielens-fds'):\n",
    "    for filename in filenames:\n",
    "        print(os.path.join(dirname, filename))\n",
    "\n",
    "# You can write up to 20GB to the current directory (/kaggle/working/) that gets preserved as output when you create a version using \"Save & Run All\" \n",
    "# You can also write temporary files to /kaggle/temp/, but they won't be saved outside of the current session"
   ]
  },
  {
   "cell_type": "code",
   "execution_count": 3,
   "metadata": {},
   "outputs": [],
   "source": [
    "def evaluate(predict_f,data_test):\n",
    "    \"\"\" RMSE-based predictive performance evaluation with pandas. \"\"\"\n",
    "    ids_to_estimate = zip(data_test.user_id, data_test.movie_id)\n",
    "    estimated = np.array([predict_f(u,i) for (u,i) in ids_to_estimate ])\n",
    "    real = data_test.rating.values\n",
    "    return compute_rmse(estimated, real)\n",
    "\n",
    "def compute_rmse(y_pred, y_true):\n",
    "    \"\"\" Compute Root Mean Squared Error. \"\"\"\n",
    "    return np.sqrt(np.mean(np.power(y_pred - y_true, 2)))\n",
    "\n",
    "## Divide the data in two sets: training and test\n",
    "def assign_to_set(df):\n",
    "    sampled_ids = np.random.choice(df.index,\n",
    "                                   size=np.int64(np.ceil(df.index.size * 0.05)),\n",
    "                                   replace=False)\n",
    "    df['for_testing'] = False\n",
    "    df.loc[sampled_ids, 'for_testing'] = True\n",
    "    return df\n"
   ]
  },
  {
   "cell_type": "code",
   "execution_count": 9,
   "metadata": {},
   "outputs": [],
   "source": [
    "def get_x(user_id, movie_id, dummie_idx_users, dummie_idx_movies, N_dummies):\n",
    "    hot_user = dummie_idx_users[user_id] ; hot_movie = dummie_idx_movies[movie_id]\n",
    "    row = np.array([0,0]) ; col = np.array([hot_user,hot_movie]) ; data = np.array([1, 1]) \n",
    "    x = csr_matrix((data, (row, col)), shape=(1, N_dummies))\n",
    "    return x\n",
    "\n",
    "def evaluate2(predict_f, data_test, users_index, movies_index, mean_rating, dummie_idx_users, dummie_idx_movies, N_dummies):\n",
    "    \n",
    "    ids_to_estimate = zip(data_test.user_id, data_test.movie_id)\n",
    "    estimated = []\n",
    "    \n",
    "    for u,i in ids_to_estimate:\n",
    "        if u not in users_index and i in movies_index:\n",
    "            estimated.append(3)\n",
    "        \n",
    "        if u in users_index and i in movies_index:\n",
    "            x = get_x(u,i,dummie_idx_users,dummie_idx_movies,N_dummies)\n",
    "            estimated.append(predict_f(x))\n",
    "            \n",
    "        if i not in movies_index:\n",
    "            estimated.append(mean_rating) # this is a new movie\n",
    "\n",
    "    real = data_test.rating.values\n",
    "    return compute_rmse(estimated, real)\n",
    "    "
   ]
  },
  {
   "cell_type": "code",
   "execution_count": 10,
   "metadata": {},
   "outputs": [],
   "source": [
    "df = pd.read_csv('./movielens-fds/training.csv')\n",
    "df.head()\n",
    "\n",
    "grouped    = df.groupby('user_id', group_keys=False).apply(assign_to_set)\n",
    "df_train = df[grouped.for_testing == False]\n",
    "df_val   = df[grouped.for_testing == True]"
   ]
  },
  {
   "cell_type": "code",
   "execution_count": 11,
   "metadata": {},
   "outputs": [],
   "source": [
    "class RecSys_fm4():\n",
    "    \"\"\" Collaborative filtering using a custom sim(u,u'). \"\"\"\n",
    "\n",
    "    def __init__(self,df_train,df_val, num_components=10):\n",
    "        \"\"\" Constructor \"\"\"\n",
    "        self.df_train       = df_train\n",
    "        self.df_val         = df_val\n",
    "        self.num_components = num_components\n",
    "        # We create a dictionary where we will store the user_id and movie_id which correspond \n",
    "        # to each index in the Rating matrix\n",
    "        self.N_samples = len(self.df_train)\n",
    "        self.users_index  = set(self.df_train.user_id)\n",
    "        self.movies_index = set(self.df_train.movie_id)\n",
    "        self.N_users      = len(self.users_index) \n",
    "        self.N_movies     = len(self.movies_index)\n",
    "        self.N_dummies = self.N_users + self.N_movies  \n",
    "        self.dummie_idx_users  = dict(zip(self.users_index, range(self.N_users)))\n",
    "        self.dummie_idx_movies = dict(zip(self.movies_index, range(self.N_users,self.N_users+self.N_movies)))\n",
    "        \n",
    "    def __sdg__(self):\n",
    "        l = []\n",
    "        for idx in self.training_indices:\n",
    "            l.append(idx)\n",
    "            if len(l)%1000 == 0: print('Wait {} idxs'.format(len(self.training_indices)-len(l)))\n",
    "            y     = np.array(self.df_train.iloc[idx,3]) \n",
    "            user  = self.df_train.iloc[idx,:].user_id\n",
    "            movie = self.df_train.iloc[idx,:].movie_id\n",
    "            x     = get_x(user, movie, self.dummie_idx_users, self.dummie_idx_movies, self.N_dummies)\n",
    "            \n",
    "            prediction = self.predict(x)\n",
    "            loss_derivative = 2*(prediction-y)\n",
    "            #Update w0\n",
    "            grad_w0 = loss_derivative\n",
    "            self.w0 = self.w0 - self.learn_rate * (grad_w0 + 2*self.lmbda * self.w0)\n",
    "\n",
    "            for i in x.indices:\n",
    "                grad_w = loss_derivative * x[0,i]\n",
    "                self.w[i] = self.w[i] - self.learn_rate*(grad_w + 2*self.lmbda*self.w[i])\n",
    "\n",
    "                for f in range(self.num_components):\n",
    "                    grad_V = loss_derivative*x[0,i]*(sum(x*self.V[:, f]) - x[0,i]*self.V[i, f])\n",
    "                    self.V[i, f] = self.V[i, f] - self.learn_rate * (grad_V + 2*self.lmbda*self.V[i, f])\n",
    "            \n",
    "    def fit(self,n_epochs = 10,learning_rate =0.01,lmbda=0.1,verbose =True):\n",
    "        \"\"\" We decompose the R matrix into to submatrices using the training data \"\"\"\n",
    "        self.verbose = verbose\n",
    "        self.learn_rate = learning_rate\n",
    "        self.lmbda = lmbda\n",
    "        \n",
    "        self.mean_rating = self.df_train.rating.mean() \n",
    "        self.train_rmse =[]\n",
    "        self.test_rmse = []\n",
    "        iter_diff = 0\n",
    "        \n",
    "        # initialize model parameters\n",
    "        self.w0 = self.mean_rating\n",
    "        self.w  = np.random.normal(scale=1./self.N_dummies, size=self.N_dummies)\n",
    "        self.V  = np.random.normal(scale=1./self.num_components, size=(self.N_dummies, self.num_components))\n",
    "        \n",
    "        for epoch in range(n_epochs):\n",
    "            print('Epoch: {}'.format(epoch))\n",
    "            \n",
    "            self.training_indices = np.arange(self.N_samples)\n",
    "            \n",
    "            #shuffle training samples\n",
    "            np.random.shuffle(self.training_indices)\n",
    "            self.__sdg__()\n",
    "            \n",
    "            self.train_rmse.append(evaluate2(self.predict,self.df_train, self.users_index, self.movies_index, self.mean_rating, self.dummie_idx_users, self.dummie_idx_movies,self.N_dummies))\n",
    "            self.test_rmse.append(evaluate2(self.predict,self.df_val, self.users_index, self.movies_index, self.mean_rating, self.dummie_idx_users, self.dummie_idx_movies,self.N_dummies))\n",
    "            \n",
    "            print('\\tTrain rmse: %s' % self.train_rmse[-1])\n",
    "            print('\\tTest rmse: %s' % self.test_rmse[-1])\n",
    "            \n",
    "        if(self.verbose):\n",
    "            self.__plot_learning_curves__()\n",
    "    \n",
    "    def __plot_learning_curves__(self):\n",
    "        plt.plot(self.train_rmse,'--o',label=\"train_error\")\n",
    "        plt.plot(self.test_rmse,'--o',label=\"test_error\")\n",
    "        plt.legend()\n",
    "        plt.show()\n",
    "        \n",
    "    def predict(self, x):\n",
    "        \"\"\" Single user and item prediction.\"\"\"\n",
    "        sx = 0 ; dx = 0 ; linear = 0\n",
    "        \n",
    "        for i in x.indices:\n",
    "            sx += self.V[i,:]*x[0,i]\n",
    "            dx += (self.V[i,:]**2)*x[0,i]**2\n",
    "            linear += self.w[i]*x[0,i]\n",
    "    \n",
    "        interact  = sum(sx**2 - dx)/2 \n",
    "\n",
    "        return self.w0 + linear + interact\n",
    "    "
   ]
  },
  {
   "cell_type": "code",
   "execution_count": 12,
   "metadata": {},
   "outputs": [],
   "source": [
    "df_train_red = df_train[df_train.user_id < 10] \n",
    "df_val_red = df_val[df_val.user_id < 10]"
   ]
  },
  {
   "cell_type": "code",
   "execution_count": 13,
   "metadata": {},
   "outputs": [
    {
     "name": "stdout",
     "output_type": "stream",
     "text": [
      "Epoch: 0\n",
      "\tTrain rmse: 1.2089880483132631\n",
      "\tTest rmse: 1.099594857324397\n",
      "Epoch: 1\n",
      "\tTrain rmse: 1.1319321394383126\n",
      "\tTest rmse: 1.056859453760445\n",
      "Epoch: 2\n",
      "\tTrain rmse: 1.115815786480951\n",
      "\tTest rmse: 1.0647624625473684\n",
      "Epoch: 3\n",
      "\tTrain rmse: 1.0957425048370426\n",
      "\tTest rmse: 1.0659868588871086\n",
      "Epoch: 4\n",
      "\tTrain rmse: 1.0691900485179469\n",
      "\tTest rmse: 1.0605674345506675\n",
      "Epoch: 5\n",
      "\tTrain rmse: 1.015791696798062\n",
      "\tTest rmse: 1.0436837147919065\n",
      "Epoch: 6\n",
      "\tTrain rmse: 1.0258951648904935\n",
      "\tTest rmse: 1.0640732602375798\n",
      "Epoch: 7\n",
      "\tTrain rmse: 0.9797099746951075\n",
      "\tTest rmse: 1.0544656133646362\n",
      "Epoch: 8\n",
      "\tTrain rmse: 1.069307725952652\n",
      "\tTest rmse: 1.0916580657770851\n",
      "Epoch: 9\n",
      "\tTrain rmse: 0.908086306458356\n",
      "\tTest rmse: 1.0423320473560629\n"
     ]
    },
    {
     "data": {
      "image/png": "[encoded data removed]",
      "text/plain": [
       "<Figure size 432x288 with 1 Axes>"
      ]
     },
     "metadata": {
      "needs_background": "light"
     },
     "output_type": "display_data"
    }
   ],
   "source": [
    "reco = RecSys_fm4(df_train_red,df_val_red,num_components=5)\n",
    "reco.fit()"
   ]
  },
  {
   "cell_type": "code",
   "execution_count": null,
   "metadata": {},
   "outputs": [],
   "source": []
  }
 ],
 "metadata": {
  "kernelspec": {
   "display_name": "Python 3",
   "language": "python",
   "name": "python3"
  },
  "language_info": {
   "codemirror_mode": {
    "name": "ipython",
    "version": 3
   },
   "file_extension": ".py",
   "mimetype": "text/x-python",
   "name": "python",
   "nbconvert_exporter": "python",
   "pygments_lexer": "ipython3",
   "version": "3.7.6"
  }
 },
 "nbformat": 4,
 "nbformat_minor": 4
}
